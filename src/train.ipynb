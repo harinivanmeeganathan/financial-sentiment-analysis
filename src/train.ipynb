{
 "cells": [
  {
   "cell_type": "markdown",
   "metadata": {},
   "source": [
    "Connected to sentiment-analysis (Python 3.13.1)"
   ]
  },
  {
   "cell_type": "code",
   "execution_count": null,
   "id": "e195e559-fb1b-4861-861f-bee27cc3418c",
   "metadata": {},
   "outputs": [
    {
     "name": "stderr",
     "output_type": "stream",
     "text": [
      "c:\\Users\\harin\\anaconda3\\envs\\sentiment-analysis\\Lib\\site-packages\\tqdm\\auto.py:21: TqdmWarning: IProgress not found. Please update jupyter and ipywidgets. See https://ipywidgets.readthedocs.io/en/stable/user_install.html\n",
      "  from .autonotebook import tqdm as notebook_tqdm\n"
     ]
    },
    {
     "name": "stdout",
     "output_type": "stream",
     "text": [
      "Columns in DataFrame: Index(['sentiment', 'text', 'cleaned_text'], dtype='object')\n"
     ]
    },
    {
     "name": "stderr",
     "output_type": "stream",
     "text": [
      "Some weights of DistilBertForSequenceClassification were not initialized from the model checkpoint at distilbert-base-uncased and are newly initialized: ['classifier.bias', 'classifier.weight', 'pre_classifier.bias', 'pre_classifier.weight']\n",
      "You should probably TRAIN this model on a down-stream task to be able to use it for predictions and inference.\n",
      "Map: 100%|██████████| 4845/4845 [00:00<00:00, 261395.42 examples/s]\n",
      "Map: 100%|██████████| 4845/4845 [00:00<00:00, 6286.01 examples/s]\n",
      "c:\\Users\\harin\\anaconda3\\envs\\sentiment-analysis\\Lib\\site-packages\\transformers\\training_args.py:1575: FutureWarning: `evaluation_strategy` is deprecated and will be removed in version 4.46 of 🤗 Transformers. Use `eval_strategy` instead\n",
      "  warnings.warn(\n",
      "<ipython-input-1-8ecaefb241a9>:72: FutureWarning: `tokenizer` is deprecated and will be removed in version 5.0.0 for `Trainer.__init__`. Use `processing_class` instead.\n",
      "  trainer = Trainer(\n"
     ]
    },
    {
     "data": {
      "text/html": [
       "\n",
       "    <div>\n",
       "      \n",
       "      <progress value='729' max='729' style='width:300px; height:20px; vertical-align: middle;'></progress>\n",
       "      [729/729 2:31:59, Epoch 3/3]\n",
       "    </div>\n",
       "    <table border=\"1\" class=\"dataframe\">\n",
       "  <thead>\n",
       " <tr style=\"text-align: left;\">\n",
       "      <th>Epoch</th>\n",
       "      <th>Training Loss</th>\n",
       "      <th>Validation Loss</th>\n",
       "      <th>Accuracy</th>\n",
       "    </tr>\n",
       "  </thead>\n",
       "  <tbody>\n",
       "    <tr>\n",
       "      <td>1</td>\n",
       "      <td>No log</td>\n",
       "      <td>0.525225</td>\n",
       "      <td>0.782250</td>\n",
       "    </tr>\n",
       "    <tr>\n",
       "      <td>2</td>\n",
       "      <td>No log</td>\n",
       "      <td>0.484945</td>\n",
       "      <td>0.812178</td>\n",
       "    </tr>\n",
       "    <tr>\n",
       "      <td>3</td>\n",
       "      <td>0.529000</td>\n",
       "      <td>0.498817</td>\n",
       "      <td>0.810114</td>\n",
       "    </tr>\n",
       "  </tbody>\n",
       "</table><p>"
      ],
      "text/plain": [
       "<IPython.core.display.HTML object>"
      ]
     },
     "metadata": {},
     "output_type": "display_data"
    },
    {
     "data": {
      "text/html": [],
      "text/plain": [
       "<IPython.core.display.HTML object>"
      ]
     },
     "metadata": {},
     "output_type": "display_data"
    },
    {
     "name": "stdout",
     "output_type": "stream",
     "text": [
      "Accuracy: 0.8121775025799793\n",
      "Classification Report:\n",
      "              precision    recall  f1-score   support\n",
      "\n",
      "           0       0.64      0.77      0.70       111\n",
      "           1       0.77      0.66      0.71       260\n",
      "           2       0.87      0.89      0.88       598\n",
      "\n",
      "    accuracy                           0.81       969\n",
      "   macro avg       0.76      0.77      0.76       969\n",
      "weighted avg       0.81      0.81      0.81       969\n",
      "\n",
      "Confusion Matrix:\n",
      "[[ 85  10  16]\n",
      " [ 22 172  66]\n",
      " [ 26  42 530]]\n"
     ]
    }
   ],
   "source": [
    "import pandas as pd\n",
    "import os\n",
    "from transformers import AutoTokenizer, AutoModelForSequenceClassification, Trainer, TrainingArguments\n",
    "from sklearn.model_selection import train_test_split\n",
    "import torch\n",
    "from datasets import Dataset\n",
    "from sklearn.metrics import accuracy_score, classification_report, confusion_matrix\n",
    "\n",
    "# Constructed the absolute path dynamically\n",
    "def get_cleaned_data_path():\n",
    "    current_dir = os.path.dirname(os.path.abspath(__file__))\n",
    "    return os.path.join(current_dir, \"../data/cleaned_data.csv\")\n",
    "\n",
    "# Load and preprocess the dataset\n",
    "def load_data():\n",
    "    file_path = get_cleaned_data_path()\n",
    "    df = pd.read_csv(file_path)\n",
    "    \n",
    "    # Debugging: Check column names\n",
    "    print(\"Columns in DataFrame:\", df.columns)\n",
    "    \n",
    "    df = df[['cleaned_text', 'sentiment']]\n",
    "    label_map = {\"positive\": 1, \"negative\": 0, \"neutral\": 2}\n",
    "    df['labels'] = df['sentiment'].map(label_map)\n",
    "    \n",
    "    return df\n",
    "\n",
    "# Train the Hugging Face model\n",
    "def train_huggingface_model(data):\n",
    "    \"\"\"\n",
    "    Trains a Hugging Face transformer model (e.g., distilBERT) for sentiment analysis.\n",
    "    \"\"\"\n",
    "    # Load tokenizer and model\n",
    "    model_name = \"distilbert-base-uncased\"\n",
    "    tokenizer = AutoTokenizer.from_pretrained(model_name)\n",
    "    model = AutoModelForSequenceClassification.from_pretrained(model_name, num_labels=3)\n",
    "\n",
    "    # Convert DataFrame to Hugging Face Dataset\n",
    "    dataset = Dataset.from_pandas(data)\n",
    "\n",
    "    # Ensure `cleaned_text` is formatted correctly for batch processing\n",
    "    dataset = dataset.map(lambda x: {\"cleaned_text\": [str(t) for t in x[\"cleaned_text\"]]}, batched=True)\n",
    "\n",
    "    # Tokenization function\n",
    "    def tokenize_function(examples):\n",
    "        return tokenizer(examples[\"cleaned_text\"], padding=\"max_length\", truncation=True)\n",
    "\n",
    "    # Tokenize dataset\n",
    "    tokenized_dataset = dataset.map(tokenize_function, batched=True)\n",
    "\n",
    "    # Split into train and test datasets\n",
    "    train_test_split = tokenized_dataset.train_test_split(test_size=0.2)\n",
    "    train_dataset = train_test_split[\"train\"]\n",
    "    test_dataset = train_test_split[\"test\"]\n",
    "\n",
    "    # Define training arguments\n",
    "    training_args = TrainingArguments(\n",
    "        output_dir=\"../models/\",\n",
    "        evaluation_strategy=\"epoch\",\n",
    "        save_strategy=\"epoch\",\n",
    "        learning_rate=2e-5,\n",
    "        per_device_train_batch_size=16,\n",
    "        num_train_epochs=3,\n",
    "        weight_decay=0.01,\n",
    "        logging_dir=\"../logs/\",\n",
    "        load_best_model_at_end=True,\n",
    "        metric_for_best_model=\"accuracy\",\n",
    "        greater_is_better=True,\n",
    "    )\n",
    "\n",
    "    # Define trainer\n",
    "    trainer = Trainer(\n",
    "        model=model,\n",
    "        args=training_args,\n",
    "        train_dataset=train_dataset,\n",
    "        eval_dataset=test_dataset,\n",
    "        tokenizer=tokenizer,\n",
    "        compute_metrics=lambda pred: {\"accuracy\": accuracy_score(pred.label_ids, pred.predictions.argmax(-1))},\n",
    "    )\n",
    "\n",
    "    # Train the model\n",
    "    trainer.train()\n",
    "\n",
    "    # Save the model and tokenizer\n",
    "    model.save_pretrained(\"src/models/sentiment_model\")\n",
    "    tokenizer.save_pretrained(\"src/models/sentiment_model\")\n",
    "\n",
    "    # Evaluate the model\n",
    "    predictions = trainer.predict(test_dataset)\n",
    "    predicted_classes = predictions.predictions.argmax(-1)\n",
    "    print(\"Accuracy:\", accuracy_score(test_dataset[\"labels\"], predicted_classes))\n",
    "    print(\"Classification Report:\")\n",
    "    print(classification_report(test_dataset[\"labels\"], predicted_classes))\n",
    "    print(\"Confusion Matrix:\")\n",
    "    print(confusion_matrix(test_dataset[\"labels\"], predicted_classes))\n",
    "\n",
    "    return model, tokenizer\n",
    "\n",
    "if __name__ == \"__main__\":\n",
    "    # Load cleaned data\n",
    "    data = load_data()\n",
    "\n",
    "    # Train the Hugging Face model\n",
    "    model, tokenizer = train_huggingface_model(data)"
   ]
  }
 ],
 "metadata": {
  "language_info": {
   "codemirror_mode": {
    "name": "ipython",
    "version": 3
   },
   "file_extension": ".py",
   "mimetype": "text/x-python",
   "name": "python",
   "nbconvert_exporter": "python",
   "pygments_lexer": "ipython3",
   "version": 3
  }
 },
 "nbformat": 4,
 "nbformat_minor": 2
}
